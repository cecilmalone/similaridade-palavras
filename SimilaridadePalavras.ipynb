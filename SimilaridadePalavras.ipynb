{
 "cells": [
  {
   "cell_type": "code",
   "execution_count": 7,
   "metadata": {
    "colab": {
     "base_uri": "https://localhost:8080/",
     "height": 224
    },
    "colab_type": "code",
    "id": "SpBvYBaE76Q1",
    "outputId": "4daf673a-a8c4-493d-8990-f666f8d6d569"
   },
   "outputs": [
    {
     "name": "stdout",
     "output_type": "stream",
     "text": [
      "Requirement already satisfied: fuzzywuzzy in /usr/local/lib/python3.6/dist-packages (0.17.0)\n",
      "Collecting python-Levenshtein\n",
      "\u001b[?25l  Downloading https://files.pythonhosted.org/packages/42/a9/d1785c85ebf9b7dfacd08938dd028209c34a0ea3b1bcdb895208bd40a67d/python-Levenshtein-0.12.0.tar.gz (48kB)\n",
      "\u001b[K     |████████████████████████████████| 51kB 3.5MB/s \n",
      "\u001b[?25hRequirement already satisfied: setuptools in /usr/local/lib/python3.6/dist-packages (from python-Levenshtein) (41.0.1)\n",
      "Building wheels for collected packages: python-Levenshtein\n",
      "  Building wheel for python-Levenshtein (setup.py) ... \u001b[?25l\u001b[?25hdone\n",
      "  Stored in directory: /root/.cache/pip/wheels/de/c2/93/660fd5f7559049268ad2dc6d81c4e39e9e36518766eaf7e342\n",
      "Successfully built python-Levenshtein\n",
      "Installing collected packages: python-Levenshtein\n",
      "Successfully installed python-Levenshtein-0.12.0\n"
     ]
    }
   ],
   "source": [
    "# Instalando a biblioteca de verificação de similridade entre strings\n",
    "!pip install fuzzywuzzy\n",
    "!pip install python-Levenshtein"
   ]
  },
  {
   "cell_type": "code",
   "execution_count": null,
   "metadata": {
    "colab": {},
    "colab_type": "code",
    "id": "ShUkMPZH8cx0"
   },
   "outputs": [],
   "source": [
    "# Importando as bibliotecas\n",
    "import pandas as pd\n",
    "from collections import OrderedDict\n",
    "from fuzzywuzzy import process, fuzz"
   ]
  },
  {
   "cell_type": "code",
   "execution_count": null,
   "metadata": {
    "colab": {},
    "colab_type": "code",
    "id": "nGvK3Okd8t8P"
   },
   "outputs": [],
   "source": [
    "data = OrderedDict(\n",
    "{\n",
    "    \"NumPaciente\": [123465, 456789, 987654, 456789, 98765],\n",
    "    \"Diagnostico\": [\"Doenc.Cardiovascular\",\n",
    "                    \"Doença Cardio.\",\n",
    "                    \"Doença Cardiovascular.\",\n",
    "                    \"Cardiovascular!!\",\n",
    "                    \"%%$#Doença Cardioovascular&&\"\n",
    "                   ]\n",
    "})\n",
    "\n",
    "df = pd.DataFrame(data)"
   ]
  },
  {
   "cell_type": "code",
   "execution_count": 5,
   "metadata": {
    "colab": {
     "base_uri": "https://localhost:8080/",
     "height": 204
    },
    "colab_type": "code",
    "id": "RW-qS_xh9eI_",
    "outputId": "f6cf800c-a9b7-44e7-daab-7af8658f77c0"
   },
   "outputs": [
    {
     "data": {
      "text/html": [
       "<div>\n",
       "<style scoped>\n",
       "    .dataframe tbody tr th:only-of-type {\n",
       "        vertical-align: middle;\n",
       "    }\n",
       "\n",
       "    .dataframe tbody tr th {\n",
       "        vertical-align: top;\n",
       "    }\n",
       "\n",
       "    .dataframe thead th {\n",
       "        text-align: right;\n",
       "    }\n",
       "</style>\n",
       "<table border=\"1\" class=\"dataframe\">\n",
       "  <thead>\n",
       "    <tr style=\"text-align: right;\">\n",
       "      <th></th>\n",
       "      <th>NumPaciente</th>\n",
       "      <th>Diagnostico</th>\n",
       "    </tr>\n",
       "  </thead>\n",
       "  <tbody>\n",
       "    <tr>\n",
       "      <th>0</th>\n",
       "      <td>123465</td>\n",
       "      <td>Doenc.Cardiovascular</td>\n",
       "    </tr>\n",
       "    <tr>\n",
       "      <th>1</th>\n",
       "      <td>456789</td>\n",
       "      <td>Doença Cardio.</td>\n",
       "    </tr>\n",
       "    <tr>\n",
       "      <th>2</th>\n",
       "      <td>987654</td>\n",
       "      <td>Doença Cardiovascular.</td>\n",
       "    </tr>\n",
       "    <tr>\n",
       "      <th>3</th>\n",
       "      <td>456789</td>\n",
       "      <td>Cardiovascular!!</td>\n",
       "    </tr>\n",
       "    <tr>\n",
       "      <th>4</th>\n",
       "      <td>98765</td>\n",
       "      <td>%%$#Doença Cardioovascular&amp;&amp;</td>\n",
       "    </tr>\n",
       "  </tbody>\n",
       "</table>\n",
       "</div>"
      ],
      "text/plain": [
       "   NumPaciente                   Diagnostico\n",
       "0       123465          Doenc.Cardiovascular\n",
       "1       456789                Doença Cardio.\n",
       "2       987654        Doença Cardiovascular.\n",
       "3       456789              Cardiovascular!!\n",
       "4        98765  %%$#Doença Cardioovascular&&"
      ]
     },
     "execution_count": 5,
     "metadata": {
      "tags": []
     },
     "output_type": "execute_result"
    }
   ],
   "source": [
    "df"
   ]
  },
  {
   "cell_type": "code",
   "execution_count": null,
   "metadata": {
    "colab": {},
    "colab_type": "code",
    "id": "LIhBs0ao-Eug"
   },
   "outputs": [],
   "source": [
    "def aplica_fuzzy(dado, lista, tipo_score, valor_corte):\n",
    "    return process.extractOne(dado, choices=lista, scorer=tipo_score, score_cutoff=valor_corte)"
   ]
  },
  {
   "cell_type": "code",
   "execution_count": null,
   "metadata": {
    "colab": {},
    "colab_type": "code",
    "id": "12Am4f1s-s3Y"
   },
   "outputs": [],
   "source": [
    "df['Diagnostico2'] = aplica_fuzzy(\"Doença Cardiovascular\", df.Diagnostico, fuzz.ratio, 95)[0]"
   ]
  },
  {
   "cell_type": "code",
   "execution_count": 14,
   "metadata": {
    "colab": {
     "base_uri": "https://localhost:8080/",
     "height": 204
    },
    "colab_type": "code",
    "id": "0UgutHt5_E0v",
    "outputId": "3f8a351a-3fa5-4a07-d8db-1d9d150cddfe"
   },
   "outputs": [
    {
     "data": {
      "text/html": [
       "<div>\n",
       "<style scoped>\n",
       "    .dataframe tbody tr th:only-of-type {\n",
       "        vertical-align: middle;\n",
       "    }\n",
       "\n",
       "    .dataframe tbody tr th {\n",
       "        vertical-align: top;\n",
       "    }\n",
       "\n",
       "    .dataframe thead th {\n",
       "        text-align: right;\n",
       "    }\n",
       "</style>\n",
       "<table border=\"1\" class=\"dataframe\">\n",
       "  <thead>\n",
       "    <tr style=\"text-align: right;\">\n",
       "      <th></th>\n",
       "      <th>NumPaciente</th>\n",
       "      <th>Diagnostico</th>\n",
       "      <th>Diagnostico2</th>\n",
       "    </tr>\n",
       "  </thead>\n",
       "  <tbody>\n",
       "    <tr>\n",
       "      <th>0</th>\n",
       "      <td>123465</td>\n",
       "      <td>Doenc.Cardiovascular</td>\n",
       "      <td>Doença Cardiovascular.</td>\n",
       "    </tr>\n",
       "    <tr>\n",
       "      <th>1</th>\n",
       "      <td>456789</td>\n",
       "      <td>Doença Cardio.</td>\n",
       "      <td>Doença Cardiovascular.</td>\n",
       "    </tr>\n",
       "    <tr>\n",
       "      <th>2</th>\n",
       "      <td>987654</td>\n",
       "      <td>Doença Cardiovascular.</td>\n",
       "      <td>Doença Cardiovascular.</td>\n",
       "    </tr>\n",
       "    <tr>\n",
       "      <th>3</th>\n",
       "      <td>456789</td>\n",
       "      <td>Cardiovascular!!</td>\n",
       "      <td>Doença Cardiovascular.</td>\n",
       "    </tr>\n",
       "    <tr>\n",
       "      <th>4</th>\n",
       "      <td>98765</td>\n",
       "      <td>%%$#Doença Cardioovascular&amp;&amp;</td>\n",
       "      <td>Doença Cardiovascular.</td>\n",
       "    </tr>\n",
       "  </tbody>\n",
       "</table>\n",
       "</div>"
      ],
      "text/plain": [
       "   NumPaciente                   Diagnostico            Diagnostico2\n",
       "0       123465          Doenc.Cardiovascular  Doença Cardiovascular.\n",
       "1       456789                Doença Cardio.  Doença Cardiovascular.\n",
       "2       987654        Doença Cardiovascular.  Doença Cardiovascular.\n",
       "3       456789              Cardiovascular!!  Doença Cardiovascular.\n",
       "4        98765  %%$#Doença Cardioovascular&&  Doença Cardiovascular."
      ]
     },
     "execution_count": 14,
     "metadata": {
      "tags": []
     },
     "output_type": "execute_result"
    }
   ],
   "source": [
    "df"
   ]
  }
 ],
 "metadata": {
  "colab": {
   "name": "SimilaridadePalavras.ipynb",
   "provenance": [],
   "version": "0.3.2"
  },
  "kernelspec": {
   "display_name": "Python 3",
   "language": "python",
   "name": "python3"
  },
  "language_info": {
   "codemirror_mode": {
    "name": "ipython",
    "version": 3
   },
   "file_extension": ".py",
   "mimetype": "text/x-python",
   "name": "python",
   "nbconvert_exporter": "python",
   "pygments_lexer": "ipython3",
   "version": "3.7.1"
  }
 },
 "nbformat": 4,
 "nbformat_minor": 2
}
